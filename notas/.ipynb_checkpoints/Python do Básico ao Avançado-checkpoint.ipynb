{
 "cells": [
  {
   "cell_type": "code",
   "execution_count": null,
   "id": "a39b6ff8",
   "metadata": {},
   "outputs": [],
   "source": [
    "# Primeras impressoes #"
   ]
  },
  {
   "cell_type": "code",
   "execution_count": 6,
   "id": "004a8787",
   "metadata": {},
   "outputs": [],
   "source": [
    "a = 4"
   ]
  },
  {
   "cell_type": "code",
   "execution_count": 7,
   "id": "c291dd27",
   "metadata": {},
   "outputs": [],
   "source": [
    "b = 5"
   ]
  },
  {
   "cell_type": "code",
   "execution_count": 9,
   "id": "d592508d",
   "metadata": {},
   "outputs": [
    {
     "data": {
      "text/plain": [
       "9"
      ]
     },
     "execution_count": 9,
     "metadata": {},
     "output_type": "execute_result"
    }
   ],
   "source": [
    "a + b"
   ]
  },
  {
   "cell_type": "code",
   "execution_count": 10,
   "id": "badbcd43",
   "metadata": {},
   "outputs": [
    {
     "data": {
      "text/plain": [
       "10"
      ]
     },
     "execution_count": 10,
     "metadata": {},
     "output_type": "execute_result"
    }
   ],
   "source": [
    "_ + 1"
   ]
  },
  {
   "cell_type": "code",
   "execution_count": null,
   "id": "9225c193",
   "metadata": {},
   "outputs": [],
   "source": []
  },
  {
   "cell_type": "code",
   "execution_count": 11,
   "id": "26bb00e4",
   "metadata": {},
   "outputs": [
    {
     "data": {
      "text/plain": [
       "3"
      ]
     },
     "execution_count": 11,
     "metadata": {},
     "output_type": "execute_result"
    }
   ],
   "source": [
    "1 + 2"
   ]
  },
  {
   "cell_type": "code",
   "execution_count": 34,
   "id": "26e5780d",
   "metadata": {},
   "outputs": [
    {
     "name": "stdout",
     "output_type": "stream",
     "text": [
      "3\n",
      "2\n",
      "24\n",
      "2.25\n",
      "9 1\n",
      "15625\n",
      "1\n"
     ]
    }
   ],
   "source": [
    "print(1 + 2)\n",
    "print(5 - 3)\n",
    "print(3 * 8)\n",
    "print(9 / 4)\n",
    "print(9,4 // 3)\n",
    "print(5 ** 6)\n",
    "print(10 % 3)\n",
    "\n"
   ]
  },
  {
   "cell_type": "markdown",
   "id": "8e354075",
   "metadata": {},
   "source": [
    "# desafio"
   ]
  },
  {
   "cell_type": "code",
   "execution_count": 25,
   "id": "54604a6b",
   "metadata": {},
   "outputs": [
    {
     "name": "stdout",
     "output_type": "stream",
     "text": [
      "71.18491790925822 % comprometido\n"
     ]
    }
   ],
   "source": [
    "# minhas variáveis\n",
    "\n",
    "salario = 3450.45\n",
    "despesas = 2456.2\n",
    "\n",
    "# resposta do desafio\n",
    "percent = despesas / salario * 100\n",
    "print(percent, '% comprometido')"
   ]
  },
  {
   "cell_type": "markdown",
   "id": "b1573afe",
   "metadata": {},
   "source": [
    "# operadores de atribuição"
   ]
  },
  {
   "cell_type": "code",
   "execution_count": 1,
   "id": "164e11ba",
   "metadata": {},
   "outputs": [
    {
     "name": "stdout",
     "output_type": "stream",
     "text": [
      "13\n",
      "28\n",
      "27\n",
      "162\n",
      "18.0\n",
      "2.0\n",
      "8.0\n"
     ]
    }
   ],
   "source": [
    "a = 5\n",
    "a = a + 8\n",
    "print(a)\n",
    "\n",
    "a += 15\n",
    "print (a)\n",
    "\n",
    "a -= 1\n",
    "print(a)\n",
    "\n",
    "a *= 6\n",
    "print(a)\n",
    "\n",
    "a /= 9\n",
    "print(a)\n",
    "\n",
    "a %= 4\n",
    "print(a)\n",
    "\n",
    "a **= 3\n",
    "print(a)"
   ]
  },
  {
   "cell_type": "markdown",
   "id": "9df0e328",
   "metadata": {},
   "source": [
    "# desafio dos operadores lógicos #\n",
    "\n"
   ]
  },
  {
   "cell_type": "code",
   "execution_count": 27,
   "id": "c8b3c221",
   "metadata": {},
   "outputs": [
    {
     "name": "stdout",
     "output_type": "stream",
     "text": [
      "Tv50=True Tv32=False Sorvete=True Saudável=False\n"
     ]
    }
   ],
   "source": [
    "# os trabalhos\n",
    "trabalho_terca = True\n",
    "trabalho_quinta = True\n",
    "\n",
    "\"\"\" \n",
    "- Confirmando os 2: TV 50' + Sorvete\n",
    "- Confirmando apenas 1: TV 32' + Sorvete\n",
    "- Nenhum confirmado: Fica em casa  \"\"\"\n",
    "\n",
    "\n",
    "tv_50 = trabalho_terca and trabalho_quinta\n",
    "sorvete = trabalho_terca or trabalho_quinta\n",
    "tv_32 = trabalho_terca != trabalho_quinta #xor\n",
    "mais_saudavel = not sorvete \n",
    "\n",
    "print(\"Tv50={} Tv32={} Sorvete={} Saudável={}\" \n",
    "      .format(tv_50, tv_32, sorvete, mais_saudavel))\n"
   ]
  },
  {
   "cell_type": "markdown",
   "id": "3c43009e",
   "metadata": {},
   "source": [
    "# operadores unários #\n"
   ]
  },
  {
   "cell_type": "code",
   "execution_count": 39,
   "id": "77962760",
   "metadata": {},
   "outputs": [
    {
     "data": {
      "text/plain": [
       "10"
      ]
     },
     "execution_count": 39,
     "metadata": {},
     "output_type": "execute_result"
    }
   ],
   "source": [
    "a = 9\n",
    "# a =++  não existe\n",
    "a += 1\n",
    "a"
   ]
  },
  {
   "cell_type": "markdown",
   "id": "1781a528",
   "metadata": {},
   "source": [
    "# Operadores ternarios #\n"
   ]
  },
  {
   "cell_type": "code",
   "execution_count": 46,
   "id": "4b8d4513",
   "metadata": {},
   "outputs": [
    {
     "data": {
      "text/plain": [
       "'Hoje estou com as roupas secas.'"
      ]
     },
     "execution_count": 46,
     "metadata": {},
     "output_type": "execute_result"
    }
   ],
   "source": [
    "esta_chovendo = False\n",
    "'Hoje estou com as roupas ' + ('secas.', 'molhadas.') [esta_chovendo]"
   ]
  },
  {
   "cell_type": "code",
   "execution_count": 49,
   "id": "6e6c6b43",
   "metadata": {},
   "outputs": [
    {
     "data": {
      "text/plain": [
       "'Hoje estou com as roupas secas.'"
      ]
     },
     "execution_count": 49,
     "metadata": {},
     "output_type": "execute_result"
    }
   ],
   "source": [
    "esta_chovendo = False\n",
    "'Hoje estou com as roupas ' + ('molhadas.' if esta_chovendo else 'secas.') "
   ]
  },
  {
   "cell_type": "code",
   "execution_count": null,
   "id": "8afa5246",
   "metadata": {},
   "outputs": [],
   "source": []
  }
 ],
 "metadata": {
  "kernelspec": {
   "display_name": "Python 3",
   "language": "python",
   "name": "python3"
  },
  "language_info": {
   "codemirror_mode": {
    "name": "ipython",
    "version": 3
   },
   "file_extension": ".py",
   "mimetype": "text/x-python",
   "name": "python",
   "nbconvert_exporter": "python",
   "pygments_lexer": "ipython3",
   "version": "3.8.8"
  }
 },
 "nbformat": 4,
 "nbformat_minor": 5
}
