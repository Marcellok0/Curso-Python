{
 "cells": [
  {
   "cell_type": "markdown",
   "id": "5f7ca31e",
   "metadata": {},
   "source": [
    "# Primeras impressoes #"
   ]
  },
  {
   "cell_type": "code",
   "execution_count": 60,
   "id": "004a8787",
   "metadata": {},
   "outputs": [
    {
     "data": {
      "text/plain": [
       "3"
      ]
     },
     "execution_count": 60,
     "metadata": {},
     "output_type": "execute_result"
    }
   ],
   "source": [
    "a = 4\n",
    "b = 5\n",
    "a + b # Vai resultar 9 no print\n",
    "_ / 3 # _ vai pegar o ultimo valor armazenado (+ somar, - diminuir, / dividir ou * multiplicar) pelo indicador\n",
    "\n",
    "1 + 2"
   ]
  },
  {
   "cell_type": "code",
   "execution_count": 61,
   "id": "c291dd27",
   "metadata": {},
   "outputs": [
    {
     "name": "stdout",
     "output_type": "stream",
     "text": [
      "3\n",
      "2\n",
      "24\n",
      "2.25\n",
      "9 1\n",
      "15625\n",
      "1\n"
     ]
    }
   ],
   "source": [
    "print(1 + 2)\n",
    "print(5 - 3)\n",
    "print(3 * 8)\n",
    "print(9 / 4)\n",
    "print(9,4 // 3)\n",
    "print(5 ** 6)\n",
    "print(10 % 3)"
   ]
  },
  {
   "cell_type": "markdown",
   "id": "ef18148c",
   "metadata": {},
   "source": [
    "#  Desafio #"
   ]
  },
  {
   "cell_type": "code",
   "execution_count": 63,
   "id": "badbcd43",
   "metadata": {},
   "outputs": [
    {
     "name": "stdout",
     "output_type": "stream",
     "text": [
      "71.18491790925822 % comprometido\n"
     ]
    }
   ],
   "source": [
    "# minhas variáveis\n",
    "\n",
    "salario = 3450.45\n",
    "despesas = 2456.2\n",
    "\n",
    "# resposta do desafio\n",
    "percent = despesas / salario * 100\n",
    "print(percent, '% comprometido')"
   ]
  },
  {
   "cell_type": "markdown",
   "id": "b1573afe",
   "metadata": {},
   "source": [
    "# operadores de atribuição"
   ]
  },
  {
   "cell_type": "code",
   "execution_count": 62,
   "id": "164e11ba",
   "metadata": {},
   "outputs": [
    {
     "name": "stdout",
     "output_type": "stream",
     "text": [
      "13\n",
      "28\n",
      "27\n",
      "162\n",
      "18.0\n",
      "2.0\n",
      "8.0\n"
     ]
    }
   ],
   "source": [
    "a = 5\n",
    "a = a + 8\n",
    "print(a)\n",
    "\n",
    "a += 15\n",
    "print (a)\n",
    "\n",
    "a -= 1\n",
    "print(a)\n",
    "\n",
    "a *= 6\n",
    "print(a)\n",
    "\n",
    "a /= 9\n",
    "print(a)\n",
    "\n",
    "a %= 4\n",
    "print(a)\n",
    "\n",
    "a **= 3\n",
    "print(a)"
   ]
  },
  {
   "cell_type": "markdown",
   "id": "1a690edd",
   "metadata": {},
   "source": [
    "# desafio dos operadores lógicos #\n",
    "\n"
   ]
  },
  {
   "cell_type": "code",
   "execution_count": 64,
   "id": "598ab668",
   "metadata": {},
   "outputs": [
    {
     "name": "stdout",
     "output_type": "stream",
     "text": [
      "Tv50=True Tv32=False Sorvete=True Saudável=False\n"
     ]
    }
   ],
   "source": [
    "# os trabalhos\n",
    "trabalho_terca = True\n",
    "trabalho_quinta = True\n",
    "\n",
    "\"\"\" \n",
    "- Confirmando os 2: TV 50' + Sorvete\n",
    "- Confirmando apenas 1: TV 32' + Sorvete\n",
    "- Nenhum confirmado: Fica em casa  \"\"\"\n",
    "\n",
    "\n",
    "tv_50 = trabalho_terca and trabalho_quinta\n",
    "sorvete = trabalho_terca or trabalho_quinta\n",
    "tv_32 = trabalho_terca != trabalho_quinta #xor\n",
    "mais_saudavel = not sorvete \n",
    "\n",
    "print(\"Tv50={} Tv32={} Sorvete={} Saudável={}\" \n",
    "      .format(tv_50, tv_32, sorvete, mais_saudavel))\n"
   ]
  },
  {
   "cell_type": "markdown",
   "id": "94f2b69d",
   "metadata": {},
   "source": [
    "# operadores unários #\n"
   ]
  },
  {
   "cell_type": "code",
   "execution_count": 65,
   "id": "135fad9b",
   "metadata": {},
   "outputs": [
    {
     "data": {
      "text/plain": [
       "10"
      ]
     },
     "execution_count": 65,
     "metadata": {},
     "output_type": "execute_result"
    }
   ],
   "source": [
    "a = 9\n",
    "# a =++  não existe\n",
    "a += 1\n",
    "a"
   ]
  },
  {
   "cell_type": "markdown",
   "id": "766e86f7",
   "metadata": {},
   "source": [
    "# Operadores ternarios #\n"
   ]
  },
  {
   "cell_type": "code",
   "execution_count": 66,
   "id": "21a05597",
   "metadata": {},
   "outputs": [
    {
     "data": {
      "text/plain": [
       "'Hoje estou com as roupas secas.'"
      ]
     },
     "execution_count": 66,
     "metadata": {},
     "output_type": "execute_result"
    }
   ],
   "source": [
    "esta_chovendo = False\n",
    "'Hoje estou com as roupas ' + ('secas.', 'molhadas.') [esta_chovendo]"
   ]
  },
  {
   "cell_type": "code",
   "execution_count": 68,
   "id": "29f870fd",
   "metadata": {},
   "outputs": [
    {
     "data": {
      "text/plain": [
       "'Hoje estou com as roupas molhadas.'"
      ]
     },
     "execution_count": 68,
     "metadata": {},
     "output_type": "execute_result"
    }
   ],
   "source": [
    "esta_chovendo = True\n",
    "'Hoje estou com as roupas ' + ('molhadas.' if esta_chovendo else 'secas.') "
   ]
  },
  {
   "cell_type": "markdown",
   "id": "52ecb0b3",
   "metadata": {},
   "source": [
    "# Mais Operadores #\n"
   ]
  },
  {
   "cell_type": "code",
   "execution_count": 69,
   "id": "99d26e5b",
   "metadata": {},
   "outputs": [
    {
     "data": {
      "text/plain": [
       "True"
      ]
     },
     "execution_count": 69,
     "metadata": {},
     "output_type": "execute_result"
    }
   ],
   "source": [
    "# Operadores de membro #\n",
    "\n",
    "lista = [1, 2, 3, 'Ana','Carla']\n",
    "2 in lista \n",
    "'Ana' not in lista \n",
    "\n",
    "# Operador de identidade #\n",
    "\n",
    "x = 3\n",
    "y =  x\n",
    "z = 3\n",
    "x is y\n",
    "y is z\n",
    "x is not z\n",
    "\n",
    "lista_a = [1, 2, 3]\n",
    "lista_b = lista_a\n",
    "lista_c = [1, 2, 3]\n",
    "\n",
    "lista_a is lista_b\n",
    "lista_b is lista_c\n",
    "lista_a is not lista_c\n",
    "\n"
   ]
  },
  {
   "cell_type": "markdown",
   "id": "28e70706",
   "metadata": {},
   "source": [
    "# Builtins #"
   ]
  },
  {
   "cell_type": "code",
   "execution_count": 2,
   "id": "bdab344c",
   "metadata": {},
   "outputs": [
    {
     "name": "stdout",
     "output_type": "stream",
     "text": [
      "3.3333333333333335\n",
      "Help on built-in function dir in module builtins:\n",
      "\n",
      "dir(...)\n",
      "    dir([object]) -> list of strings\n",
      "    \n",
      "    If called without an argument, return the names in the current scope.\n",
      "    Else, return an alphabetized list of names comprising (some of) the attributes\n",
      "    of the given object, and of attributes reachable from it.\n",
      "    If the object supplies a method named __dir__, it will be used; otherwise\n",
      "    the default dir() logic is used and returns:\n",
      "      for a module object: the module's attributes.\n",
      "      for a class object:  its attributes, and recursively the attributes\n",
      "        of its bases.\n",
      "      for any other object: its attributes, its class's attributes, and\n",
      "        recursively the attributes of its class's base classes.\n",
      "\n"
     ]
    },
    {
     "data": {
      "text/plain": [
       "['ArithmeticError',\n",
       " 'AssertionError',\n",
       " 'AttributeError',\n",
       " 'BaseException',\n",
       " 'BlockingIOError',\n",
       " 'BrokenPipeError',\n",
       " 'BufferError',\n",
       " 'BytesWarning',\n",
       " 'ChildProcessError',\n",
       " 'ConnectionAbortedError',\n",
       " 'ConnectionError',\n",
       " 'ConnectionRefusedError',\n",
       " 'ConnectionResetError',\n",
       " 'DeprecationWarning',\n",
       " 'EOFError',\n",
       " 'Ellipsis',\n",
       " 'EnvironmentError',\n",
       " 'Exception',\n",
       " 'False',\n",
       " 'FileExistsError',\n",
       " 'FileNotFoundError',\n",
       " 'FloatingPointError',\n",
       " 'FutureWarning',\n",
       " 'GeneratorExit',\n",
       " 'IOError',\n",
       " 'ImportError',\n",
       " 'ImportWarning',\n",
       " 'IndentationError',\n",
       " 'IndexError',\n",
       " 'InterruptedError',\n",
       " 'IsADirectoryError',\n",
       " 'KeyError',\n",
       " 'KeyboardInterrupt',\n",
       " 'LookupError',\n",
       " 'MemoryError',\n",
       " 'ModuleNotFoundError',\n",
       " 'NameError',\n",
       " 'None',\n",
       " 'NotADirectoryError',\n",
       " 'NotImplemented',\n",
       " 'NotImplementedError',\n",
       " 'OSError',\n",
       " 'OverflowError',\n",
       " 'PendingDeprecationWarning',\n",
       " 'PermissionError',\n",
       " 'ProcessLookupError',\n",
       " 'RecursionError',\n",
       " 'ReferenceError',\n",
       " 'ResourceWarning',\n",
       " 'RuntimeError',\n",
       " 'RuntimeWarning',\n",
       " 'StopAsyncIteration',\n",
       " 'StopIteration',\n",
       " 'SyntaxError',\n",
       " 'SyntaxWarning',\n",
       " 'SystemError',\n",
       " 'SystemExit',\n",
       " 'TabError',\n",
       " 'TimeoutError',\n",
       " 'True',\n",
       " 'TypeError',\n",
       " 'UnboundLocalError',\n",
       " 'UnicodeDecodeError',\n",
       " 'UnicodeEncodeError',\n",
       " 'UnicodeError',\n",
       " 'UnicodeTranslateError',\n",
       " 'UnicodeWarning',\n",
       " 'UserWarning',\n",
       " 'ValueError',\n",
       " 'Warning',\n",
       " 'WindowsError',\n",
       " 'ZeroDivisionError',\n",
       " '__IPYTHON__',\n",
       " '__build_class__',\n",
       " '__debug__',\n",
       " '__doc__',\n",
       " '__import__',\n",
       " '__loader__',\n",
       " '__name__',\n",
       " '__package__',\n",
       " '__spec__',\n",
       " 'abs',\n",
       " 'all',\n",
       " 'any',\n",
       " 'ascii',\n",
       " 'bin',\n",
       " 'bool',\n",
       " 'breakpoint',\n",
       " 'bytearray',\n",
       " 'bytes',\n",
       " 'callable',\n",
       " 'chr',\n",
       " 'classmethod',\n",
       " 'compile',\n",
       " 'complex',\n",
       " 'copyright',\n",
       " 'credits',\n",
       " 'delattr',\n",
       " 'dict',\n",
       " 'dir',\n",
       " 'display',\n",
       " 'divmod',\n",
       " 'enumerate',\n",
       " 'eval',\n",
       " 'exec',\n",
       " 'filter',\n",
       " 'float',\n",
       " 'format',\n",
       " 'frozenset',\n",
       " 'get_ipython',\n",
       " 'getattr',\n",
       " 'globals',\n",
       " 'hasattr',\n",
       " 'hash',\n",
       " 'help',\n",
       " 'hex',\n",
       " 'id',\n",
       " 'input',\n",
       " 'int',\n",
       " 'isinstance',\n",
       " 'issubclass',\n",
       " 'iter',\n",
       " 'len',\n",
       " 'license',\n",
       " 'list',\n",
       " 'locals',\n",
       " 'map',\n",
       " 'max',\n",
       " 'memoryview',\n",
       " 'min',\n",
       " 'next',\n",
       " 'object',\n",
       " 'oct',\n",
       " 'open',\n",
       " 'ord',\n",
       " 'pow',\n",
       " 'print',\n",
       " 'property',\n",
       " 'range',\n",
       " 'repr',\n",
       " 'reversed',\n",
       " 'round',\n",
       " 'set',\n",
       " 'setattr',\n",
       " 'slice',\n",
       " 'sorted',\n",
       " 'staticmethod',\n",
       " 'str',\n",
       " 'sum',\n",
       " 'super',\n",
       " 'tuple',\n",
       " 'type',\n",
       " 'vars',\n",
       " 'zip']"
      ]
     },
     "execution_count": 2,
     "metadata": {},
     "output_type": "execute_result"
    }
   ],
   "source": [
    "# type ()\n",
    "type(1)\n",
    "__builtins__.type('Sem kaô')\n",
    "__builtins__.print(10/3)\n",
    "help(dir)\n",
    "dir()\n",
    "dir(__builtins__)\n",
    "\n",
    "\n"
   ]
  },
  {
   "cell_type": "markdown",
   "id": "a2a03a81",
   "metadata": {},
   "source": [
    "# Conversão de Tipos #\n"
   ]
  },
  {
   "cell_type": "code",
   "execution_count": 19,
   "id": "de3af20b",
   "metadata": {},
   "outputs": [],
   "source": [
    "2 + 3 \n",
    "'2' + '3'\n",
    "# 2 + '3'\n",
    "# print(2 + '3')\n",
    "a = 2\n",
    "b = '3'"
   ]
  },
  {
   "cell_type": "markdown",
   "id": "eaf03027",
   "metadata": {},
   "source": [
    "# Tipo String #\n"
   ]
  },
  {
   "cell_type": "code",
   "execution_count": 36,
   "id": "a2cc2d52",
   "metadata": {},
   "outputs": [
    {
     "name": "stdout",
     "output_type": "stream",
     "text": [
      "Texto com multiplas\n",
      "...linhas\n",
      "Texto com multiplas\n",
      "...linhas\n",
      "Também é possivel \n",
      "...com 3 aspas simples\n"
     ]
    }
   ],
   "source": [
    "dir(str)\n",
    "nome = 'Saulo Pedro'\n",
    "nome \n",
    "nome[0] # acessando uma letra especifica, se inicia no indice 0\n",
    " \n",
    "# 'Marca d'agua' erro de Sintaxe\n",
    "\"Marca d'agua\"\n",
    "\"Dias D'Avila\"\n",
    "'Marca d\\'agua' == \"Marca d'agua\"\n",
    "\n",
    "# \\ Scape = O próximo caracter será tratado de forma especial, neste caso faz parte do texto. \n",
    "\n",
    "# \"Teste \\\" Funciona!\"\n",
    "\n",
    "texto = 'Texto entre apostrofos pode ter \"aspas\"'\n",
    "texto\n",
    "\n",
    "doc = \"\"\"Texto com multiplas\n",
    "...linhas\"\"\"\n",
    "doc\n",
    "print('Texto com multiplas\\n...linhas')\n",
    "# OU\n",
    "print(doc)\n",
    "\n",
    "doc2 = '''Também é possivel \n",
    "...com 3 aspas simples'''\n",
    "\n",
    "doc2\n",
    "print(doc2)\n"
   ]
  },
  {
   "cell_type": "markdown",
   "id": "6911097d",
   "metadata": {},
   "source": [
    "# Tipo String Pt2 #"
   ]
  },
  {
   "cell_type": "code",
   "execution_count": 75,
   "id": "03dcd68d",
   "metadata": {},
   "outputs": [
    {
     "data": {
      "text/plain": [
       "'auPaA'"
      ]
     },
     "execution_count": 75,
     "metadata": {},
     "output_type": "execute_result"
    }
   ],
   "source": [
    "\n",
    "nome = 'Ana Paula'\n",
    "nome[0]\n",
    "nome[6] \n",
    "nome[-2] # da esquerda para a direita\n",
    "nome[4:] # acessando um conjunto de elementos do número em diante  pois contará do indice 4 Paula\n",
    "nome[5:] # aula\n",
    "nome[6:] # ula\n",
    "\n",
    "nome[:3] # O indice 3 não conta será até o 2, sendo 0,1,2 ou seja \"Ana\"\n",
    "nome[1:7] #O indice inicia no 1 e vai até o 6 ou seja \"na Pau\"\n",
    "\n",
    "numeros = '1234567890'\n",
    "numeros      # Vai printar todos os numeros\n",
    "numeros[::] # Vai printar todos os numeros\n",
    "numeros[::2] # Vai printar os numeros pulando de 2 em 2 \"Step\", devido ao indicador 2 - 1,3,5,7,9\n",
    "numeros[::3] # Vai printar os numeros pulando de 3 em 3 \"Step\", devido ao indicador 3 - 1,4,7,0\n",
    "\n",
    "numeros[1::2] # iniciando do 1 vá de 2 em 2 - 2,4,6,8,0\n",
    "numeros[::-1] # Vai printar de forma decrescente ou seja da direita para a esquerda- 0,9,8,7,6,5,4,3,2,1\n",
    "\n",
    "nome[::-1] # Vai printar da direita para a esquerda \"invertendo a ordem\" - 'aluaP anA'\n"
   ]
  },
  {
   "cell_type": "markdown",
   "id": "40b3b0b6",
   "metadata": {},
   "source": [
    "# Tipo String Pt3 #"
   ]
  },
  {
   "cell_type": "code",
   "execution_count": 91,
   "id": "d18dbd60",
   "metadata": {},
   "outputs": [
    {
     "data": {
      "text/plain": [
       "['Python é uma linguag', 'm ', 'xc', 'l', 'nt', '']"
      ]
     },
     "execution_count": 91,
     "metadata": {},
     "output_type": "execute_result"
    }
   ],
   "source": [
    "frase = 'Python é uma linguagem excelente'\n",
    "'py' in frase # Letras maiusculas ou minusculas são consideradas por isso o resultado é - False\n",
    "'ing' in frase # True\n",
    "\n",
    "len(frase) # Informa os caracteres da sentença neste caso - 32\n",
    "frase.lower() # Muda toda a sentença para letras MINUSCULAS no momento que chamada sem alterar a variavel\n",
    "frase.upper() # Muda toda a sentença para letras MAIUSCULAS no momento que chamada sem alterar a variavel\n",
    "\n",
    "frase.split()   #Fraciona a sentença por espaços em branco - ['Python', 'é', 'uma', 'linguagem', 'excelente']\n",
    "frase.split('e')#Fraciona a sentença onde aparece o caracter \"e\" - ['Python é uma linguag', 'm ', 'xc', 'l', 'nt', '']\n"
   ]
  },
  {
   "cell_type": "markdown",
   "id": "f436ecbc",
   "metadata": {},
   "source": [
    "# Tipo String Pt4 #"
   ]
  },
  {
   "cell_type": "code",
   "execution_count": 104,
   "id": "0a5c2146",
   "metadata": {},
   "outputs": [
    {
     "data": {
      "text/plain": [
       "True"
      ]
     },
     "execution_count": 104,
     "metadata": {},
     "output_type": "execute_result"
    }
   ],
   "source": [
    "a = '123'\n",
    "b = ' de Oliveira 4'\n",
    "a + b\n",
    "\n",
    "a.__add__(b)\n",
    "str.__add__(a, b)\n",
    "\n",
    "dir(str)\n",
    "len(a)\n",
    "a.__len__()\n",
    "'1' in a \n",
    "a.__contains__('1')\n",
    "\n",
    "# Na pratica não se utiliza essa função, mas internamente elas serão chamadas... \n",
    "# Então é bom saber o que está acontecendo - Method Magics"
   ]
  },
  {
   "cell_type": "markdown",
   "id": "6aaf39be",
   "metadata": {},
   "source": [
    "#  Listas # "
   ]
  },
  {
   "cell_type": "code",
   "execution_count": 120,
   "id": "39f05054",
   "metadata": {},
   "outputs": [
    {
     "data": {
      "text/plain": [
       "['Bia', 'Ana', 1]"
      ]
     },
     "execution_count": 120,
     "metadata": {},
     "output_type": "execute_result"
    }
   ],
   "source": [
    "lista = [] #Sequencia mutavel adicionando ou removendo elementos\n",
    "type(lista) # Para saber o tipo de informação da variavel\n",
    "\n",
    "dir(lista)\n",
    "# help(lista)\n",
    "\n",
    "lista.append(1)\n",
    "lista.append(5)\n",
    "len(lista) # Informa o tamanho da variavel\n",
    "\n",
    "lista2 = [1, 5, 'Ana', 'Bia'] # A lista em Python aceita dados heterogeneos - string, float, complex\n",
    "lista2\n",
    "lista2.remove(5) #remove o elemento selecionado neste caso 5, alterando a variavel\n",
    "lista2\n",
    "lista2.reverse() #A lista foi alterada revertendo a ordem da lista, alterando a variavel\n",
    "lista2"
   ]
  },
  {
   "cell_type": "markdown",
   "id": "2aeaf169",
   "metadata": {},
   "source": [
    "# Listas Pt2 #"
   ]
  },
  {
   "cell_type": "code",
   "execution_count": 129,
   "id": "12361aa1",
   "metadata": {},
   "outputs": [
    {
     "data": {
      "text/plain": [
       "3.1415"
      ]
     },
     "execution_count": 129,
     "metadata": {},
     "output_type": "execute_result"
    }
   ],
   "source": [
    "lista = [1, 5, 'Rebeca', 'Guilherme', 3.1415]\n",
    "lista.index('Guilherme') #  A posição de 'Guilherme' na lista é de numero 3 pois o index se inicia do 0\n",
    "lista[2] #printa o index 2 sende neste caso 'Rebeca'\n",
    "\n",
    "1 in lista #True\n",
    "\"Rebeca\" in lista #True\n",
    "'Pedro' not in lista #False\n",
    "lista[0]\n",
    "lista[4]\n",
    "lista[-1] #acessa o ultimo elemento da lista"
   ]
  },
  {
   "cell_type": "markdown",
   "id": "b6ba68d0",
   "metadata": {},
   "source": [
    "# Listas Pt3 # "
   ]
  },
  {
   "cell_type": "code",
   "execution_count": 145,
   "id": "17630359",
   "metadata": {},
   "outputs": [
    {
     "data": {
      "text/plain": [
       "['Ana']"
      ]
     },
     "execution_count": 145,
     "metadata": {},
     "output_type": "execute_result"
    }
   ],
   "source": [
    "lista = ['Ana', 'Lia','Rui','Paulo','Dani']\n",
    "lista[1:3] # Vai do inicio do indice 1 ao 3 sendo que o 1 e o 3 nao entram resultado - Lia, Rui\n",
    "lista[1:-1] # Iniciando do indice 1 ao -1 ou seja - Lia, Rui, Paulo \n",
    "lista[1:] # Inicia do 1 elemento sem inclui-lo e vai até o final - Lia, Rui, Paulo, Dani\n",
    "lista[:-1] # Vai do indice 0 sem incluir o -1 resultado - Ana, Lia, Rui, Paulo\n",
    "lista[:] # Vai do inicio ao final mesma coisa que acessar a lista\n",
    "lista[::2] # Acessando a lista inteira de 2 em 2 - Ana, Rui, Dani\n",
    "lista[::-1] # Inverte a ordem da lista - Dani, Paulo, Rui, Lia, Ana\n",
    "del lista[2] # Deleta o indice indicado - Rui\n",
    "lista\n",
    "\n",
    "del lista[1:] # Deleta do indice 1 em diante\n",
    "lista"
   ]
  },
  {
   "cell_type": "markdown",
   "id": "93ad0ab8",
   "metadata": {},
   "source": [
    "# Tuplas # "
   ]
  },
  {
   "cell_type": "code",
   "execution_count": 165,
   "id": "40ed6d38",
   "metadata": {},
   "outputs": [
    {
     "data": {
      "text/plain": [
       "4"
      ]
     },
     "execution_count": 165,
     "metadata": {},
     "output_type": "execute_result"
    }
   ],
   "source": [
    "# Estruturas indexadas que não podem ser modificadas, é uma sequencia IMUTAVEL\n",
    "\n",
    "tupla = tuple()\n",
    "tupla = ()\n",
    "type(tupla)\n",
    "dir(tupla)\n",
    "#help(tupla)\n",
    "\n",
    "tupla = ('um')# agora é do tipo STRING\n",
    "type(tupla)\n",
    "\n",
    "tupla = ('um',) # agora é do tipo TUPLA, pois tuplas de um unico elemento precisa da ',' ao final\n",
    "type(tupla)\n",
    "\n",
    "tupla[0]\n",
    "## tupla[0] = 'novo' # Tupla não pode ser alterado/atribuido\n",
    "\n",
    "\n",
    "cores =('verde', 'amarelo', 'azul', 'branco')\n",
    "type(cores) \n",
    "\n",
    "cores[0]  # verde\n",
    "cores[-1] # branco\n",
    "cores[1:] # amarelo, azul, branco\n",
    "\n",
    "cores.index('amarelo') # Index - 1\n",
    "cores.count('azul')    # Informa quantas vezes 'x' elemento consta na tupla\n",
    "len(cores)  # Informa o tamanho da variavel"
   ]
  },
  {
   "cell_type": "markdown",
   "id": "b7711d54",
   "metadata": {},
   "source": [
    "# Dicionários #\n"
   ]
  },
  {
   "cell_type": "code",
   "execution_count": 177,
   "id": "3e375248",
   "metadata": {},
   "outputs": [
    {
     "data": {
      "text/plain": [
       "dict_values(['Prof(a). Ana', 38, ['Ingles', 'Portugues']])"
      ]
     },
     "execution_count": 177,
     "metadata": {},
     "output_type": "execute_result"
    }
   ],
   "source": [
    "pessoa = {'nome': 'Prof(a). Ana', 'idade':38, 'cursos': ['Ingles', 'Portugues']}\n",
    "type(pessoa)\n",
    "dir(dict)\n",
    "len(pessoa)\n",
    "\n",
    "pessoa['nome']\n",
    "pessoa['idade']\n",
    "pessoa['cursos']\n",
    "\n",
    "pessoa.keys() # pega as variaveis chaves do dicionario - nome, idade, cursos\n",
    "pessoa.values() #pega os valores desse dicionario - Prof(a). Ana, 38, Ingles, Portugues"
   ]
  },
  {
   "cell_type": "markdown",
   "id": "293c7174",
   "metadata": {},
   "source": [
    " # Dicionários Pt2 # "
   ]
  },
  {
   "cell_type": "code",
   "execution_count": 183,
   "id": "13c23b5c",
   "metadata": {},
   "outputs": [
    {
     "data": {
      "text/plain": [
       "{}"
      ]
     },
     "execution_count": 183,
     "metadata": {},
     "output_type": "execute_result"
    }
   ],
   "source": [
    "pessoa = {'nome': 'Professor. Alberto', 'idade': 43, 'cursos': ['React','Python']}\n",
    "pessoa['idade'] = 44\n",
    "pessoa['cursos'].append('Angular') # Acrescenta mais um valor à lista\n",
    "pessoa\n",
    "pessoa.pop('idade') # Remove o indice indicado\n",
    "pessoa\n",
    "pessoa.update({'idade':40, 'Sexo': 'M'}) # Atualiza a lista acrscentando e ou mudando valores na mesma\n",
    "pessoa\n",
    "del pessoa['cursos']\n",
    "pessoa\n",
    "pessoa.clear()\n",
    "pessoa"
   ]
  },
  {
   "cell_type": "markdown",
   "id": "56a5727d",
   "metadata": {},
   "source": [
    "# Conjunto # "
   ]
  },
  {
   "cell_type": "code",
   "execution_count": 199,
   "id": "ac021421",
   "metadata": {},
   "outputs": [
    {
     "name": "stdout",
     "output_type": "stream",
     "text": [
      "{'o', '3', 'd', 'c', 'r'}\n",
      "True True\n"
     ]
    },
    {
     "data": {
      "text/plain": [
       "{1, 3}"
      ]
     },
     "execution_count": 199,
     "metadata": {},
     "output_type": "execute_result"
    }
   ],
   "source": [
    "# O Conjunto não é indexado\n",
    "# O Conjunto só possui valores\n",
    "# O Conjunto não garante uma ordenação\n",
    "# O Conjunto não aceita repetição\n",
    "\n",
    "\n",
    "a = {1, 2, 3} # Usando essa mesma sintaxe usando [] seria uma 'LISTA', () seria uma 'TUPLA' e {} Conjunto\n",
    "type(a)\n",
    "a = set('cod3r') # ele não ordena itens e também ignora caracteres repetidos\n",
    "print(a)\n",
    "print('3' in a, 4 not in  a)\n",
    "{1, 2, 3} == {3, 2, 1, 3} # É verdadeiro pois contem os mesmos elementos, a ordem nao importa e a duplicidade é ignorada\n",
    "\n",
    "# Operações\n",
    "\n",
    "c1 = {1, 2}\n",
    "c2 = {2, 3}\n",
    "c1.union(c2) # Mais uma vez ele ignora o número repetido \n",
    "c1.intersection(c2)\n",
    "c1.update(c2) # Faz a adesão dos valores ignorando os caracteres repetidos\n",
    "c1\n",
    "\n",
    "c2 <= c1 # Subconjunto do outro\n",
    "c1 >= c2 # Super conjunto do outro\n",
    "\n",
    "{1, 2, 3} - {2, 3}\n",
    "\n",
    "c1 - c2\n",
    "c1 -= {2}\n",
    "c1"
   ]
  },
  {
   "cell_type": "markdown",
   "id": "70218ef7",
   "metadata": {},
   "source": [
    "# Interpolação # "
   ]
  },
  {
   "cell_type": "code",
   "execution_count": 207,
   "id": "e9cf6b2d",
   "metadata": {},
   "outputs": [
    {
     "name": "stdout",
     "output_type": "stream",
     "text": [
      "Nome: Ana Idade : 30\n",
      "Nome: Ana Idade: 30\n",
      "Nome: Ana Idade: 30\n",
      "Nome: Ana Idade: 30\n"
     ]
    }
   ],
   "source": [
    "# Interpolar é substituir valores dentro da STRING\n",
    "\n",
    "\n",
    "from string import Template\n",
    "\n",
    "nome, idade = 'Ana', 30\n",
    "print('Nome: %s Idade : %d' % (nome, idade)) # Versão mais antiga \n",
    "\n",
    "# %s Sequencia de caracteres que serão interpretados no Python para substituir caracteres do tipo STRING\n",
    "# %d Sequencia de caracteres que serão interpretados no Python para substituir caracteres do tipo INTEGER\n",
    "# %f Sequencia de caracteres que serão interpretados no Python para substituir caracteres do tipo FLOAT\n",
    "\n",
    "\n",
    "print('Nome: {0} Idade: {1}'.format(nome,idade) ) # Python < 3.6\n",
    "print (f'Nome: {nome} Idade: {idade}') # Python >= 3.6\n",
    "\n",
    "s = Template('Nome: $nome Idade: $idade')\n",
    "print(s.substitute(nome=nome, idade=idade))\n",
    "\n",
    "\n",
    "\n",
    "\n"
   ]
  },
  {
   "cell_type": "markdown",
   "id": "6a8c58cc",
   "metadata": {},
   "source": [
    "# Desafio Versão Inicial # "
   ]
  },
  {
   "cell_type": "code",
   "execution_count": null,
   "id": "c87edeec",
   "metadata": {},
   "outputs": [],
   "source": []
  },
  {
   "cell_type": "code",
   "execution_count": null,
   "id": "a15b9992",
   "metadata": {},
   "outputs": [],
   "source": []
  }
 ],
 "metadata": {
  "kernelspec": {
   "display_name": "Python 3",
   "language": "python",
   "name": "python3"
  },
  "language_info": {
   "codemirror_mode": {
    "name": "ipython",
    "version": 3
   },
   "file_extension": ".py",
   "mimetype": "text/x-python",
   "name": "python",
   "nbconvert_exporter": "python",
   "pygments_lexer": "ipython3",
   "version": "3.8.8"
  }
 },
 "nbformat": 4,
 "nbformat_minor": 5
}
